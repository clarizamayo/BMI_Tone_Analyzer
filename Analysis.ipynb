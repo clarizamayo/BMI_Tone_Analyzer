{
 "cells": [
  {
   "cell_type": "code",
   "execution_count": 155,
   "metadata": {},
   "outputs": [],
   "source": [
    "import pandas as pd\n",
    "import numpy as np \n",
    "import matplotlib.pyplot as plt\n",
    "import seaborn as sns\n",
    "# import requests\n",
    "# import json"
   ]
  },
  {
   "cell_type": "code",
   "execution_count": 156,
   "metadata": {},
   "outputs": [],
   "source": [
    "df = pd.read_csv(\"mental_health_poll_updated.csv\")"
   ]
  },
  {
   "cell_type": "code",
   "execution_count": 157,
   "metadata": {},
   "outputs": [
    {
     "data": {
      "text/html": [
       "<div>\n",
       "<style scoped>\n",
       "    .dataframe tbody tr th:only-of-type {\n",
       "        vertical-align: middle;\n",
       "    }\n",
       "\n",
       "    .dataframe tbody tr th {\n",
       "        vertical-align: top;\n",
       "    }\n",
       "\n",
       "    .dataframe thead th {\n",
       "        text-align: right;\n",
       "    }\n",
       "</style>\n",
       "<table border=\"1\" class=\"dataframe\">\n",
       "  <thead>\n",
       "    <tr style=\"text-align: right;\">\n",
       "      <th></th>\n",
       "      <th>Question</th>\n",
       "      <th>Event Category</th>\n",
       "      <th>Region</th>\n",
       "      <th>City</th>\n",
       "    </tr>\n",
       "  </thead>\n",
       "  <tbody>\n",
       "    <tr>\n",
       "      <th>0</th>\n",
       "      <td>How often are you stressed</td>\n",
       "      <td>All the time</td>\n",
       "      <td>California</td>\n",
       "      <td>(not set)</td>\n",
       "    </tr>\n",
       "    <tr>\n",
       "      <th>1</th>\n",
       "      <td>How often are you stressed</td>\n",
       "      <td>All the time</td>\n",
       "      <td>Michigan</td>\n",
       "      <td>Interlochen</td>\n",
       "    </tr>\n",
       "    <tr>\n",
       "      <th>2</th>\n",
       "      <td>How often are you stressed</td>\n",
       "      <td>All the time</td>\n",
       "      <td>Kentucky</td>\n",
       "      <td>Middlesboro</td>\n",
       "    </tr>\n",
       "    <tr>\n",
       "      <th>3</th>\n",
       "      <td>How often are you stressed</td>\n",
       "      <td>All the time</td>\n",
       "      <td>Connecticut</td>\n",
       "      <td>Essex</td>\n",
       "    </tr>\n",
       "    <tr>\n",
       "      <th>4</th>\n",
       "      <td>How often are you stressed</td>\n",
       "      <td>All the time</td>\n",
       "      <td>Indiana</td>\n",
       "      <td>Ligonier</td>\n",
       "    </tr>\n",
       "    <tr>\n",
       "      <th>...</th>\n",
       "      <td>...</td>\n",
       "      <td>...</td>\n",
       "      <td>...</td>\n",
       "      <td>...</td>\n",
       "    </tr>\n",
       "    <tr>\n",
       "      <th>136155</th>\n",
       "      <td>What are you most likely to do when you're str...</td>\n",
       "      <td>Work-out</td>\n",
       "      <td>Florida</td>\n",
       "      <td>Tampa</td>\n",
       "    </tr>\n",
       "    <tr>\n",
       "      <th>136156</th>\n",
       "      <td>What are you most likely to do when you're str...</td>\n",
       "      <td>Work-out</td>\n",
       "      <td>Missouri</td>\n",
       "      <td>Gallatin</td>\n",
       "    </tr>\n",
       "    <tr>\n",
       "      <th>136157</th>\n",
       "      <td>What are you most likely to do when you're str...</td>\n",
       "      <td>Work-out</td>\n",
       "      <td>Arizona</td>\n",
       "      <td>Tucson</td>\n",
       "    </tr>\n",
       "    <tr>\n",
       "      <th>136158</th>\n",
       "      <td>What are you most likely to do when you're str...</td>\n",
       "      <td>Work-out</td>\n",
       "      <td>Florida</td>\n",
       "      <td>Fort Lauderdale</td>\n",
       "    </tr>\n",
       "    <tr>\n",
       "      <th>136159</th>\n",
       "      <td>What are you most likely to do when you're str...</td>\n",
       "      <td>Work-out</td>\n",
       "      <td>New York</td>\n",
       "      <td>Syracuse</td>\n",
       "    </tr>\n",
       "  </tbody>\n",
       "</table>\n",
       "<p>136160 rows × 4 columns</p>\n",
       "</div>"
      ],
      "text/plain": [
       "                                                 Question Event Category  \\\n",
       "0                              How often are you stressed   All the time   \n",
       "1                              How often are you stressed   All the time   \n",
       "2                              How often are you stressed   All the time   \n",
       "3                              How often are you stressed   All the time   \n",
       "4                              How often are you stressed   All the time   \n",
       "...                                                   ...            ...   \n",
       "136155  What are you most likely to do when you're str...       Work-out   \n",
       "136156  What are you most likely to do when you're str...       Work-out   \n",
       "136157  What are you most likely to do when you're str...       Work-out   \n",
       "136158  What are you most likely to do when you're str...       Work-out   \n",
       "136159  What are you most likely to do when you're str...       Work-out   \n",
       "\n",
       "             Region             City  \n",
       "0        California        (not set)  \n",
       "1          Michigan      Interlochen  \n",
       "2          Kentucky      Middlesboro  \n",
       "3       Connecticut            Essex  \n",
       "4           Indiana         Ligonier  \n",
       "...             ...              ...  \n",
       "136155      Florida            Tampa  \n",
       "136156     Missouri         Gallatin  \n",
       "136157      Arizona           Tucson  \n",
       "136158      Florida  Fort Lauderdale  \n",
       "136159     New York         Syracuse  \n",
       "\n",
       "[136160 rows x 4 columns]"
      ]
     },
     "execution_count": 157,
     "metadata": {},
     "output_type": "execute_result"
    }
   ],
   "source": [
    "df"
   ]
  },
  {
   "cell_type": "code",
   "execution_count": 158,
   "metadata": {},
   "outputs": [
    {
     "name": "stdout",
     "output_type": "stream",
     "text": [
      "<class 'pandas.core.frame.DataFrame'>\n",
      "RangeIndex: 136160 entries, 0 to 136159\n",
      "Data columns (total 4 columns):\n",
      " #   Column          Non-Null Count   Dtype \n",
      "---  ------          --------------   ----- \n",
      " 0   Question        135344 non-null  object\n",
      " 1   Event Category  136160 non-null  object\n",
      " 2   Region          136160 non-null  object\n",
      " 3   City            136160 non-null  object\n",
      "dtypes: object(4)\n",
      "memory usage: 4.2+ MB\n"
     ]
    }
   ],
   "source": [
    "df.info()"
   ]
  },
  {
   "cell_type": "code",
   "execution_count": 159,
   "metadata": {},
   "outputs": [],
   "source": [
    "#some of our question rows are empty"
   ]
  },
  {
   "cell_type": "markdown",
   "metadata": {},
   "source": [
    "**stats on our dataframe**"
   ]
  },
  {
   "cell_type": "code",
   "execution_count": 160,
   "metadata": {},
   "outputs": [
    {
     "data": {
      "text/html": [
       "<div>\n",
       "<style scoped>\n",
       "    .dataframe tbody tr th:only-of-type {\n",
       "        vertical-align: middle;\n",
       "    }\n",
       "\n",
       "    .dataframe tbody tr th {\n",
       "        vertical-align: top;\n",
       "    }\n",
       "\n",
       "    .dataframe thead th {\n",
       "        text-align: right;\n",
       "    }\n",
       "</style>\n",
       "<table border=\"1\" class=\"dataframe\">\n",
       "  <thead>\n",
       "    <tr style=\"text-align: right;\">\n",
       "      <th></th>\n",
       "      <th>Question</th>\n",
       "      <th>Event Category</th>\n",
       "      <th>Region</th>\n",
       "      <th>City</th>\n",
       "    </tr>\n",
       "  </thead>\n",
       "  <tbody>\n",
       "    <tr>\n",
       "      <th>count</th>\n",
       "      <td>135344</td>\n",
       "      <td>136160</td>\n",
       "      <td>136160</td>\n",
       "      <td>136160</td>\n",
       "    </tr>\n",
       "    <tr>\n",
       "      <th>unique</th>\n",
       "      <td>4</td>\n",
       "      <td>21</td>\n",
       "      <td>52</td>\n",
       "      <td>4352</td>\n",
       "    </tr>\n",
       "    <tr>\n",
       "      <th>top</th>\n",
       "      <td>How often are you stressed</td>\n",
       "      <td>All the time</td>\n",
       "      <td>Texas</td>\n",
       "      <td>Dallas</td>\n",
       "    </tr>\n",
       "    <tr>\n",
       "      <th>freq</th>\n",
       "      <td>35878</td>\n",
       "      <td>16101</td>\n",
       "      <td>11848</td>\n",
       "      <td>4706</td>\n",
       "    </tr>\n",
       "  </tbody>\n",
       "</table>\n",
       "</div>"
      ],
      "text/plain": [
       "                          Question Event Category  Region    City\n",
       "count                       135344         136160  136160  136160\n",
       "unique                           4             21      52    4352\n",
       "top     How often are you stressed   All the time   Texas  Dallas\n",
       "freq                         35878          16101   11848    4706"
      ]
     },
     "execution_count": 160,
     "metadata": {},
     "output_type": "execute_result"
    }
   ],
   "source": [
    "df.describe()"
   ]
  },
  {
   "cell_type": "code",
   "execution_count": 161,
   "metadata": {},
   "outputs": [
    {
     "data": {
      "text/plain": [
       "(array(['How often are you stressed', 'What resources do you use to help',\n",
       "        'What stresses you out the most',\n",
       "        \"What are you most likely to do when you're stressed\", nan],\n",
       "       dtype=object),\n",
       " array(['All the time', 'Apps/Online', 'College', 'Drugs/Drinking', 'Eat',\n",
       "        'Friends', 'Never', 'Nothing Q3', 'Nothing Q4', 'Other',\n",
       "        'Other Q3', 'Other Q4', 'Parents', 'Rarely', 'Relationships',\n",
       "        'School resources', 'Sometimes', 'Talk to Friends', 'Teachers',\n",
       "        'Therapist', 'Work-out'], dtype=object))"
      ]
     },
     "execution_count": 161,
     "metadata": {},
     "output_type": "execute_result"
    }
   ],
   "source": [
    "df['Question'].unique(), df['Event Category'].unique()"
   ]
  },
  {
   "cell_type": "code",
   "execution_count": 162,
   "metadata": {},
   "outputs": [],
   "source": [
    "#df.groupby(['Question', 'Event Category']).groups"
   ]
  },
  {
   "cell_type": "markdown",
   "metadata": {},
   "source": [
    "**Grouping by questions and answers + count**"
   ]
  },
  {
   "cell_type": "code",
   "execution_count": 163,
   "metadata": {},
   "outputs": [
    {
     "data": {
      "text/plain": [
       "Question                                             Event Category \n",
       "How often are you stressed                           All the time       16101\n",
       "                                                     Sometimes          13146\n",
       "                                                     Rarely              4370\n",
       "                                                     Never               2261\n",
       "What are you most likely to do when you're stressed  Talk to Friends     7469\n",
       "                                                     Eat                 6545\n",
       "                                                     Nothing Q3          5618\n",
       "                                                     Other Q3            5273\n",
       "                                                     Work-out            4806\n",
       "                                                     Drugs/Drinking      3595\n",
       "What resources do you use to help                    Apps/Online        14135\n",
       "                                                     Nothing Q4         11082\n",
       "                                                     Other Q4            4399\n",
       "                                                     Therapist           1663\n",
       "What stresses you out the most                       Relationships       9494\n",
       "                                                     Teachers            8562\n",
       "                                                     Other               7358\n",
       "                                                     Parents             4695\n",
       "                                                     College             3302\n",
       "                                                     Friends             1470\n",
       "Name: Event Category, dtype: int64"
      ]
     },
     "execution_count": 163,
     "metadata": {},
     "output_type": "execute_result"
    }
   ],
   "source": [
    "df.groupby('Question')['Event Category'].value_counts()   # keep in mind, we do not see the empty question rows here, which actually have answer \"school resources\""
   ]
  },
  {
   "cell_type": "code",
   "execution_count": 164,
   "metadata": {},
   "outputs": [
    {
     "data": {
      "text/plain": [
       "Event Category\n",
       "All the time        How often are you stressedHow often are you st...\n",
       "Apps/Online         What resources do you use to helpWhat resource...\n",
       "College             What stresses you out the mostWhat stresses yo...\n",
       "Drugs/Drinking      What are you most likely to do when you're str...\n",
       "Eat                 What are you most likely to do when you're str...\n",
       "Friends             What stresses you out the mostWhat stresses yo...\n",
       "Never               How often are you stressedHow often are you st...\n",
       "Nothing Q3          What are you most likely to do when you're str...\n",
       "Nothing Q4          What resources do you use to helpWhat resource...\n",
       "Other               What stresses you out the mostWhat stresses yo...\n",
       "Other Q3            What are you most likely to do when you're str...\n",
       "Other Q4            What resources do you use to helpWhat resource...\n",
       "Parents             What stresses you out the mostWhat stresses yo...\n",
       "Rarely              How often are you stressedHow often are you st...\n",
       "Relationships       What stresses you out the mostWhat stresses yo...\n",
       "School resources                                                    0\n",
       "Sometimes           How often are you stressedHow often are you st...\n",
       "Talk to Friends     What are you most likely to do when you're str...\n",
       "Teachers            What stresses you out the mostWhat stresses yo...\n",
       "Therapist           What resources do you use to helpWhat resource...\n",
       "Work-out            What are you most likely to do when you're str...\n",
       "Name: Question, dtype: object"
      ]
     },
     "execution_count": 164,
     "metadata": {},
     "output_type": "execute_result"
    }
   ],
   "source": [
    "df.groupby('Event Category')['Question'].sum()   #it seems ike the empty Qs are all with the answer \"School resources\""
   ]
  },
  {
   "cell_type": "code",
   "execution_count": 165,
   "metadata": {},
   "outputs": [
    {
     "data": {
      "text/plain": [
       "816"
      ]
     },
     "execution_count": 165,
     "metadata": {},
     "output_type": "execute_result"
    }
   ],
   "source": [
    "df[\"Question\"].isna().sum()    #816 empty Question rows, we have to find out which one it is and fill it up"
   ]
  },
  {
   "cell_type": "code",
   "execution_count": 166,
   "metadata": {},
   "outputs": [
    {
     "data": {
      "text/plain": [
       "How often are you stressed                             35878\n",
       "What stresses you out the most                         34881\n",
       "What are you most likely to do when you're stressed    33306\n",
       "What resources do you use to help                      31279\n",
       "Name: Question, dtype: int64"
      ]
     },
     "execution_count": 166,
     "metadata": {},
     "output_type": "execute_result"
    }
   ],
   "source": [
    "df['Question'].value_counts()  #how many rows we have for each question"
   ]
  },
  {
   "cell_type": "code",
   "execution_count": 167,
   "metadata": {},
   "outputs": [
    {
     "data": {
      "text/html": [
       "<div>\n",
       "<style scoped>\n",
       "    .dataframe tbody tr th:only-of-type {\n",
       "        vertical-align: middle;\n",
       "    }\n",
       "\n",
       "    .dataframe tbody tr th {\n",
       "        vertical-align: top;\n",
       "    }\n",
       "\n",
       "    .dataframe thead th {\n",
       "        text-align: right;\n",
       "    }\n",
       "</style>\n",
       "<table border=\"1\" class=\"dataframe\">\n",
       "  <thead>\n",
       "    <tr style=\"text-align: right;\">\n",
       "      <th></th>\n",
       "      <th>Question</th>\n",
       "      <th>Event Category</th>\n",
       "      <th>Region</th>\n",
       "      <th>City</th>\n",
       "    </tr>\n",
       "  </thead>\n",
       "  <tbody>\n",
       "    <tr>\n",
       "      <th>99698</th>\n",
       "      <td>NaN</td>\n",
       "      <td>School resources</td>\n",
       "      <td>Kentucky</td>\n",
       "      <td>Oak Grove</td>\n",
       "    </tr>\n",
       "    <tr>\n",
       "      <th>99699</th>\n",
       "      <td>NaN</td>\n",
       "      <td>School resources</td>\n",
       "      <td>Illinois</td>\n",
       "      <td>Chicago</td>\n",
       "    </tr>\n",
       "    <tr>\n",
       "      <th>99700</th>\n",
       "      <td>NaN</td>\n",
       "      <td>School resources</td>\n",
       "      <td>Arizona</td>\n",
       "      <td>Eloy</td>\n",
       "    </tr>\n",
       "    <tr>\n",
       "      <th>99701</th>\n",
       "      <td>NaN</td>\n",
       "      <td>School resources</td>\n",
       "      <td>Alabama</td>\n",
       "      <td>Birmingham</td>\n",
       "    </tr>\n",
       "    <tr>\n",
       "      <th>99702</th>\n",
       "      <td>NaN</td>\n",
       "      <td>School resources</td>\n",
       "      <td>Minnesota</td>\n",
       "      <td>Belle Plaine</td>\n",
       "    </tr>\n",
       "    <tr>\n",
       "      <th>...</th>\n",
       "      <td>...</td>\n",
       "      <td>...</td>\n",
       "      <td>...</td>\n",
       "      <td>...</td>\n",
       "    </tr>\n",
       "    <tr>\n",
       "      <th>100509</th>\n",
       "      <td>NaN</td>\n",
       "      <td>School resources</td>\n",
       "      <td>Florida</td>\n",
       "      <td>Pompano Beach</td>\n",
       "    </tr>\n",
       "    <tr>\n",
       "      <th>100510</th>\n",
       "      <td>NaN</td>\n",
       "      <td>School resources</td>\n",
       "      <td>Texas</td>\n",
       "      <td>Fort Worth</td>\n",
       "    </tr>\n",
       "    <tr>\n",
       "      <th>100511</th>\n",
       "      <td>NaN</td>\n",
       "      <td>School resources</td>\n",
       "      <td>Colorado</td>\n",
       "      <td>Montrose</td>\n",
       "    </tr>\n",
       "    <tr>\n",
       "      <th>100512</th>\n",
       "      <td>NaN</td>\n",
       "      <td>School resources</td>\n",
       "      <td>Massachusetts</td>\n",
       "      <td>Barnstable</td>\n",
       "    </tr>\n",
       "    <tr>\n",
       "      <th>100513</th>\n",
       "      <td>NaN</td>\n",
       "      <td>School resources</td>\n",
       "      <td>Montana</td>\n",
       "      <td>Laurel</td>\n",
       "    </tr>\n",
       "  </tbody>\n",
       "</table>\n",
       "<p>816 rows × 4 columns</p>\n",
       "</div>"
      ],
      "text/plain": [
       "       Question    Event Category         Region           City\n",
       "99698       NaN  School resources       Kentucky      Oak Grove\n",
       "99699       NaN  School resources       Illinois        Chicago\n",
       "99700       NaN  School resources        Arizona           Eloy\n",
       "99701       NaN  School resources        Alabama     Birmingham\n",
       "99702       NaN  School resources      Minnesota   Belle Plaine\n",
       "...         ...               ...            ...            ...\n",
       "100509      NaN  School resources        Florida  Pompano Beach\n",
       "100510      NaN  School resources          Texas     Fort Worth\n",
       "100511      NaN  School resources       Colorado       Montrose\n",
       "100512      NaN  School resources  Massachusetts     Barnstable\n",
       "100513      NaN  School resources        Montana         Laurel\n",
       "\n",
       "[816 rows x 4 columns]"
      ]
     },
     "execution_count": 167,
     "metadata": {},
     "output_type": "execute_result"
    }
   ],
   "source": [
    "df[df['Question'].isna()]"
   ]
  },
  {
   "cell_type": "code",
   "execution_count": 168,
   "metadata": {},
   "outputs": [
    {
     "data": {
      "text/plain": [
       "School resources    816\n",
       "Name: Event Category, dtype: int64"
      ]
     },
     "execution_count": 168,
     "metadata": {},
     "output_type": "execute_result"
    }
   ],
   "source": [
    "#All of the empty question's have the same answer\n",
    "\n",
    "df[df[\"Question\"].isnull()][\"Event Category\"].value_counts()"
   ]
  },
  {
   "cell_type": "code",
   "execution_count": 169,
   "metadata": {},
   "outputs": [],
   "source": [
    "df[\"Question\"] = df[\"Question\"].fillna(\"What resources do you use to help\")"
   ]
  },
  {
   "cell_type": "code",
   "execution_count": 170,
   "metadata": {},
   "outputs": [
    {
     "name": "stdout",
     "output_type": "stream",
     "text": [
      "<class 'pandas.core.frame.DataFrame'>\n",
      "RangeIndex: 136160 entries, 0 to 136159\n",
      "Data columns (total 4 columns):\n",
      " #   Column          Non-Null Count   Dtype \n",
      "---  ------          --------------   ----- \n",
      " 0   Question        136160 non-null  object\n",
      " 1   Event Category  136160 non-null  object\n",
      " 2   Region          136160 non-null  object\n",
      " 3   City            136160 non-null  object\n",
      "dtypes: object(4)\n",
      "memory usage: 4.2+ MB\n"
     ]
    }
   ],
   "source": [
    "df.info()"
   ]
  },
  {
   "cell_type": "code",
   "execution_count": 171,
   "metadata": {},
   "outputs": [
    {
     "data": {
      "text/plain": [
       "Question                                             Event Category  \n",
       "How often are you stressed                           All the time        16101\n",
       "                                                     Sometimes           13146\n",
       "                                                     Rarely               4370\n",
       "                                                     Never                2261\n",
       "What are you most likely to do when you're stressed  Talk to Friends      7469\n",
       "                                                     Eat                  6545\n",
       "                                                     Nothing Q3           5618\n",
       "                                                     Other Q3             5273\n",
       "                                                     Work-out             4806\n",
       "                                                     Drugs/Drinking       3595\n",
       "What resources do you use to help                    Apps/Online         14135\n",
       "                                                     Nothing Q4          11082\n",
       "                                                     Other Q4             4399\n",
       "                                                     Therapist            1663\n",
       "                                                     School resources      816\n",
       "What stresses you out the most                       Relationships        9494\n",
       "                                                     Teachers             8562\n",
       "                                                     Other                7358\n",
       "                                                     Parents              4695\n",
       "                                                     College              3302\n",
       "                                                     Friends              1470\n",
       "Name: Event Category, dtype: int64"
      ]
     },
     "execution_count": 171,
     "metadata": {},
     "output_type": "execute_result"
    }
   ],
   "source": [
    "df.groupby('Question')['Event Category'].value_counts()"
   ]
  },
  {
   "cell_type": "code",
   "execution_count": 172,
   "metadata": {},
   "outputs": [
    {
     "data": {
      "text/plain": [
       "<matplotlib.axes._subplots.AxesSubplot at 0x1d3366a7880>"
      ]
     },
     "execution_count": 172,
     "metadata": {},
     "output_type": "execute_result"
    },
    {
     "data": {
      "image/png": "[encoded data removed]",
      "text/plain": [
       "<Figure size 720x1080 with 1 Axes>"
      ]
     },
     "metadata": {
      "needs_background": "light"
     },
     "output_type": "display_data"
    }
   ],
   "source": [
    "df.groupby('Question')['Event Category'].value_counts().plot.barh(figsize=(10,15))"
   ]
  },
  {
   "cell_type": "code",
   "execution_count": null,
   "metadata": {},
   "outputs": [],
   "source": []
  },
  {
   "cell_type": "code",
   "execution_count": 173,
   "metadata": {},
   "outputs": [],
   "source": [
    "dct = {'How often are you stressed':0, \"What are you most likely to do when you're stressed\":1, 'What resources do you use to help':2,'What stresses you out the most':3}\n",
    "\n",
    "df[\"Question_num\"] = df[\"Question\"].apply(lambda x: dct[x])"
   ]
  },
  {
   "cell_type": "code",
   "execution_count": 176,
   "metadata": {},
   "outputs": [
    {
     "data": {
      "text/plain": [
       "array([0, 2, 3, 1], dtype=int64)"
      ]
     },
     "execution_count": 176,
     "metadata": {},
     "output_type": "execute_result"
    }
   ],
   "source": [
    "df[\"Question_num\"].unique()"
   ]
  },
  {
   "cell_type": "code",
   "execution_count": 179,
   "metadata": {},
   "outputs": [
    {
     "data": {
      "text/html": [
       "<div>\n",
       "<style scoped>\n",
       "    .dataframe tbody tr th:only-of-type {\n",
       "        vertical-align: middle;\n",
       "    }\n",
       "\n",
       "    .dataframe tbody tr th {\n",
       "        vertical-align: top;\n",
       "    }\n",
       "\n",
       "    .dataframe thead th {\n",
       "        text-align: right;\n",
       "    }\n",
       "</style>\n",
       "<table border=\"1\" class=\"dataframe\">\n",
       "  <thead>\n",
       "    <tr style=\"text-align: right;\">\n",
       "      <th></th>\n",
       "      <th>Question</th>\n",
       "      <th>Event Category</th>\n",
       "      <th>Region</th>\n",
       "      <th>City</th>\n",
       "      <th>Question_num</th>\n",
       "    </tr>\n",
       "  </thead>\n",
       "  <tbody>\n",
       "    <tr>\n",
       "      <th>0</th>\n",
       "      <td>How often are you stressed</td>\n",
       "      <td>All the time</td>\n",
       "      <td>California</td>\n",
       "      <td>(not set)</td>\n",
       "      <td>0</td>\n",
       "    </tr>\n",
       "    <tr>\n",
       "      <th>1</th>\n",
       "      <td>How often are you stressed</td>\n",
       "      <td>All the time</td>\n",
       "      <td>Michigan</td>\n",
       "      <td>Interlochen</td>\n",
       "      <td>0</td>\n",
       "    </tr>\n",
       "    <tr>\n",
       "      <th>2</th>\n",
       "      <td>How often are you stressed</td>\n",
       "      <td>All the time</td>\n",
       "      <td>Kentucky</td>\n",
       "      <td>Middlesboro</td>\n",
       "      <td>0</td>\n",
       "    </tr>\n",
       "    <tr>\n",
       "      <th>3</th>\n",
       "      <td>How often are you stressed</td>\n",
       "      <td>All the time</td>\n",
       "      <td>Connecticut</td>\n",
       "      <td>Essex</td>\n",
       "      <td>0</td>\n",
       "    </tr>\n",
       "    <tr>\n",
       "      <th>4</th>\n",
       "      <td>How often are you stressed</td>\n",
       "      <td>All the time</td>\n",
       "      <td>Indiana</td>\n",
       "      <td>Ligonier</td>\n",
       "      <td>0</td>\n",
       "    </tr>\n",
       "    <tr>\n",
       "      <th>...</th>\n",
       "      <td>...</td>\n",
       "      <td>...</td>\n",
       "      <td>...</td>\n",
       "      <td>...</td>\n",
       "      <td>...</td>\n",
       "    </tr>\n",
       "    <tr>\n",
       "      <th>136155</th>\n",
       "      <td>What are you most likely to do when you're str...</td>\n",
       "      <td>Work-out</td>\n",
       "      <td>Florida</td>\n",
       "      <td>Tampa</td>\n",
       "      <td>1</td>\n",
       "    </tr>\n",
       "    <tr>\n",
       "      <th>136156</th>\n",
       "      <td>What are you most likely to do when you're str...</td>\n",
       "      <td>Work-out</td>\n",
       "      <td>Missouri</td>\n",
       "      <td>Gallatin</td>\n",
       "      <td>1</td>\n",
       "    </tr>\n",
       "    <tr>\n",
       "      <th>136157</th>\n",
       "      <td>What are you most likely to do when you're str...</td>\n",
       "      <td>Work-out</td>\n",
       "      <td>Arizona</td>\n",
       "      <td>Tucson</td>\n",
       "      <td>1</td>\n",
       "    </tr>\n",
       "    <tr>\n",
       "      <th>136158</th>\n",
       "      <td>What are you most likely to do when you're str...</td>\n",
       "      <td>Work-out</td>\n",
       "      <td>Florida</td>\n",
       "      <td>Fort Lauderdale</td>\n",
       "      <td>1</td>\n",
       "    </tr>\n",
       "    <tr>\n",
       "      <th>136159</th>\n",
       "      <td>What are you most likely to do when you're str...</td>\n",
       "      <td>Work-out</td>\n",
       "      <td>New York</td>\n",
       "      <td>Syracuse</td>\n",
       "      <td>1</td>\n",
       "    </tr>\n",
       "  </tbody>\n",
       "</table>\n",
       "<p>136160 rows × 5 columns</p>\n",
       "</div>"
      ],
      "text/plain": [
       "                                                 Question Event Category  \\\n",
       "0                              How often are you stressed   All the time   \n",
       "1                              How often are you stressed   All the time   \n",
       "2                              How often are you stressed   All the time   \n",
       "3                              How often are you stressed   All the time   \n",
       "4                              How often are you stressed   All the time   \n",
       "...                                                   ...            ...   \n",
       "136155  What are you most likely to do when you're str...       Work-out   \n",
       "136156  What are you most likely to do when you're str...       Work-out   \n",
       "136157  What are you most likely to do when you're str...       Work-out   \n",
       "136158  What are you most likely to do when you're str...       Work-out   \n",
       "136159  What are you most likely to do when you're str...       Work-out   \n",
       "\n",
       "             Region             City  Question_num  \n",
       "0        California        (not set)             0  \n",
       "1          Michigan      Interlochen             0  \n",
       "2          Kentucky      Middlesboro             0  \n",
       "3       Connecticut            Essex             0  \n",
       "4           Indiana         Ligonier             0  \n",
       "...             ...              ...           ...  \n",
       "136155      Florida            Tampa             1  \n",
       "136156     Missouri         Gallatin             1  \n",
       "136157      Arizona           Tucson             1  \n",
       "136158      Florida  Fort Lauderdale             1  \n",
       "136159     New York         Syracuse             1  \n",
       "\n",
       "[136160 rows x 5 columns]"
      ]
     },
     "execution_count": 179,
     "metadata": {},
     "output_type": "execute_result"
    }
   ],
   "source": [
    "df"
   ]
  },
  {
   "cell_type": "code",
   "execution_count": null,
   "metadata": {},
   "outputs": [],
   "source": []
  }
 ],
 "metadata": {
  "kernelspec": {
   "display_name": "Python 3",
   "language": "python",
   "name": "python3"
  },
  "language_info": {
   "codemirror_mode": {
    "name": "ipython",
    "version": 3
   },
   "file_extension": ".py",
   "mimetype": "text/x-python",
   "name": "python",
   "nbconvert_exporter": "python",
   "pygments_lexer": "ipython3",
   "version": "3.8.3"
  }
 },
 "nbformat": 4,
 "nbformat_minor": 4
}
